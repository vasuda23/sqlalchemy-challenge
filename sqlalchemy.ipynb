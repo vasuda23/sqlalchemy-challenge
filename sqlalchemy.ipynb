{
 "cells": [
  {
   "cell_type": "code",
   "execution_count": null,
   "metadata": {},
   "outputs": [],
   "source": [
    "\n",
    "import matplotlib.pyplot as plt\n",
    "import numpy as np\n",
    "import pandas as pd\n",
    "import datetime as dt\n"
   ]
  },
  {
   "cell_type": "code",
   "execution_count": null,
   "metadata": {},
   "outputs": [],
   "source": [
    "\n",
    "import sqlalchemy\n",
    "from sqlalchemy.ext.automap import automap_base\n",
    "from sqlalchemy.orm import Session\n",
    "from sqlalchemy import create_engine, func, inspect"
   ]
  },
  {
   "cell_type": "code",
   "execution_count": null,
   "metadata": {},
   "outputs": [],
   "source": [
    "engine = create_engine(\"sqlite:///hawaii.sqlite\")"
   ]
  },
  {
   "cell_type": "code",
   "execution_count": null,
   "metadata": {},
   "outputs": [],
   "source": [
    "\n",
    "Base = automap_base()\n",
    "Base.prepare(engine, reflect=True)"
   ]
  },
  {
   "cell_type": "code",
   "execution_count": null,
   "metadata": {},
   "outputs": [],
   "source": [
    "Base.classes.keys()"
   ]
  },
  {
   "cell_type": "code",
   "execution_count": null,
   "metadata": {},
   "outputs": [],
   "source": [
    "Measurement = Base.classes.measurement\n",
    "Station = Base.classes.station\n",
    "session = Session(engine)\n",
    "inspector = inspect(engine)\n",
    "inspector.get_table_names()"
   ]
  },
  {
   "cell_type": "code",
   "execution_count": null,
   "metadata": {},
   "outputs": [],
   "source": [
    "\n",
    "columns = inspector.get_columns('measurement')\n",
    "for c in columns:\n",
    "    print(c['name'], c[\"type\"])\n"
   ]
  },
  {
   "cell_type": "code",
   "execution_count": null,
   "metadata": {},
   "outputs": [],
   "source": [
    "\n",
    "engine.execute(\"select * from Measurement limit 10\").fetchall()\n",
    "session.query(func.count(Measurement.date)).all()\n",
    "\n",
    "\n",
    "\n",
    "current_year=session.query(func.max(Measurement.date)).all()\n",
    "current_year\n",
    "\n",
    "val_cal = session.query(Measurement.date, Measurement.prcp).filter(Measurement.date >= \"2016-08-23\").\\\n",
    "        filter(Measurement.date <= \"2017-08-23\").\\\n",
    "        group_by(Measurement.date).all()\n",
    "val_cal\n",
    "\n",
    "\n",
    "df = pd.DataFrame(val_cal, columns=['date','prcp'])\n",
    "\n",
    "df.sort_values(by='date',ascending= True) \n",
    "df.rename(columns={0:\"Date\",1:\"Precipitation\"},inplace =True)\n",
    "df.set_index('date')\n",
    "df.head\n",
    "\n",
    "df.plot()\n",
    "plt.figure(1)\n",
    "df.describe()"
   ]
  },
  {
   "cell_type": "code",
   "execution_count": null,
   "metadata": {},
   "outputs": [],
   "source": [
    "\n",
    "\n",
    "total_stations = session.query(func.count(Station.station)).all()\n",
    "total_stations"
   ]
  },
  {
   "cell_type": "code",
   "execution_count": null,
   "metadata": {},
   "outputs": [],
   "source": [
    "\n",
    "\n",
    "active_stations = session.query(Measurement.station, func.count(Measurement.station)).group_by(Measurement.station).order_by(func.count(Measurement.station).desc()).all()\n",
    "active_stations\n",
    "\n",
    "\n",
    "active_stations_val =active_stations[0] \n",
    "active_stations_val"
   ]
  },
  {
   "cell_type": "code",
   "execution_count": null,
   "metadata": {},
   "outputs": [],
   "source": [
    "\n",
    "\n",
    "\n",
    "temp_observation = session.query(Measurement.station, func.count(Measurement.station)).\\\n",
    "                group_by(Measurement.station).\\\n",
    "                order_by(func.count(Measurement.station).desc()).all()\n",
    "temp_observation"
   ]
  },
  {
   "cell_type": "code",
   "execution_count": null,
   "metadata": {},
   "outputs": [],
   "source": [
    "\n",
    "all_observations = session.query(Measurement.station,func.min(Measurement.tobs), func.max(Measurement.tobs),func.avg(Measurement.tobs)).filter(Measurement.station == active_stations_val[0]).all()\n",
    "all_observations"
   ]
  },
  {
   "cell_type": "code",
   "execution_count": null,
   "metadata": {},
   "outputs": [],
   "source": [
    "\n",
    "\n",
    "active_stations_val =active_stations[0] \n",
    "active_stations_val\n",
    "\n",
    "active_stations_temps= session.query(Measurement.tobs).\\\n",
    "                        filter(Measurement.date >= \"2016-08-23\").\\\n",
    "                       filter(Measurement.station == \"USC00519281\").all()\n",
    "active_stations_temps\n",
    "len(active_stations_temps)\n",
    "\n",
    "all_temps= [z[0] for z in active_stations_temps]\n",
    "all_temps"
   ]
  },
  {
   "cell_type": "code",
   "execution_count": null,
   "metadata": {},
   "outputs": [],
   "source": [
    "\n",
    "plt.hist(all_temps, bins=12, color=\"blue\")\n",
    "plt.title(\"Displaying 12 months temp of highest station\")\n",
    "labels = ['tobs']\n",
    "plt.ylabel('Frequency', weight='bold')\n",
    "plt.xlabel('Temperature', weight='bold')\n",
    "plt.figure(2)"
   ]
  },
  {
   "cell_type": "code",
   "execution_count": null,
   "metadata": {},
   "outputs": [],
   "source": [
    "\n",
    "start_date =\"2017-01-01\" \n",
    "end_date= \"2018-01-01\"\n",
    "def calc_temps(start_date, end_date):\n",
    "    cal_btwn_dates= session.query(Measurement.tobs).\\\n",
    "                     filter(Measurement.date >= start_date).filter(Measurement.date <= end_date).all()\n",
    "    values_dates= [k[0] for k in cal_btwn_dates]\n",
    "    avg_temp=np.mean(values_dates)\n",
    "    minimum_temp=min(values_dates)\n",
    "    maximum_temp=max(values_dates)\n",
    "    print(avg_temp)\n",
    "    print(minimum_temp)\n",
    "    print(maximum_temp)\n",
    "print(calc_temps('2012-02-28', '2012-03-05'))\n",
    "\n",
    "plt.bar(1,height = 69.57, yerr = 8, align='center', color=\"coral\")\n",
    "\n",
    "\n",
    "plt.title(\"Trip Avg Temp\")\n",
    "plt.ylabel(\"Temp(F)\")\n",
    "plt.figure(3)\n",
    "plt.show()"
   ]
  },
  {
   "cell_type": "code",
   "execution_count": null,
   "metadata": {},
   "outputs": [],
   "source": [
    "active_stations_val =active_stations \n",
    "active_stations_val\n",
    "\n",
    "station_list = []\n",
    "for g in active_stations_val:\n",
    "    station_list.append(g)\n",
    "\n",
    "all_stations = session.query(Measurement.station, func.sum(Measurement.prcp), func.sum(Measurement.tobs), Station.name, Station.latitude, Station.longitude, Station.elevation).\\\n",
    "                group_by(Measurement.station).\\\n",
    "                order_by(func.sum(Measurement.prcp).desc()).all()\n",
    "all_stations"
   ]
  },
  {
   "cell_type": "code",
   "execution_count": null,
   "metadata": {},
   "outputs": [],
   "source": [
    "\n",
    "\n",
    "date=\"01-01\"\n",
    "def daily_normals(date):\n",
    "    daily_normals(\"01-01\")\n",
    "    \n",
    "sell = [func.min(Measurement.tobs), \n",
    "           func.avg(Measurement.tobs), \n",
    "           func.max(Measurement.tobs)]\n",
    "\n",
    "daily_nor = session.query(* sell).\\\n",
    "            filter(func.strftime(\"%m-%d\", Measurement.date) == date).all()\n",
    "daily_nor"
   ]
  },
  {
   "cell_type": "code",
   "execution_count": null,
   "metadata": {},
   "outputs": [],
   "source": [
    "\n",
    "\n",
    "\n",
    "start = \"2017-01-01\"\n",
    "end = \"2017-01-07\"\n",
    "\n",
    "def daily_normals(start,end):\n",
    "    daily_normals_date = session.query(Measurement.tobs).filter(Measurement.date >= start).filter(Measurement.date <= end).all()\n",
    "    daily_dates = [l[0] for l in daily_normals_date]\n",
    "    avgg_temps = np.mean(daily_dates)\n",
    "    min_temps = min(daily_dates)\n",
    "    max_temps = max(daily_dates)   \n",
    "    print(avgg_temps)\n",
    "    print(min_temps)\n",
    "    print(max_temps)\n",
    "print(daily_normals(\"2017-01-01\",\"2017-01-07\"))\n",
    "\n",
    "aaa= pd.DataFrame(daily_normals_date)\n",
    "aaa.head()\n",
    "\n"
   ]
  },
  {
   "cell_type": "code",
   "execution_count": null,
   "metadata": {},
   "outputs": [],
   "source": []
  },
  {
   "cell_type": "code",
   "execution_count": null,
   "metadata": {},
   "outputs": [],
   "source": []
  },
  {
   "cell_type": "code",
   "execution_count": null,
   "metadata": {},
   "outputs": [],
   "source": []
  }
 ],
 "metadata": {
  "kernelspec": {
   "display_name": "Python 3",
   "language": "python",
   "name": "python3"
  },
  "language_info": {
   "codemirror_mode": {
    "name": "ipython",
    "version": 3
   },
   "file_extension": ".py",
   "mimetype": "text/x-python",
   "name": "python",
   "nbconvert_exporter": "python",
   "pygments_lexer": "ipython3",
   "version": "3.6.5"
  }
 },
 "nbformat": 4,
 "nbformat_minor": 2
}
